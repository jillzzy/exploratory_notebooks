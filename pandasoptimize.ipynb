{
  "nbformat": 4,
  "nbformat_minor": 0,
  "metadata": {
    "colab": {
      "name": "Copy of pandasoptimize.ipynb",
      "version": "0.3.2",
      "provenance": [],
      "collapsed_sections": [],
      "toc_visible": true,
      "include_colab_link": true
    },
    "kernelspec": {
      "name": "python3",
      "display_name": "Python 3"
    }
  },
  "cells": [
    {
      "cell_type": "markdown",
      "metadata": {
        "id": "view-in-github",
        "colab_type": "text"
      },
      "source": [
        "<a href=\"https://colab.research.google.com/github/jillzzy/jupyter_notebooks/blob/master/pandasoptimize.ipynb\" target=\"_parent\"><img src=\"https://colab.research.google.com/assets/colab-badge.svg\" alt=\"Open In Colab\"/></a>"
      ]
    },
    {
      "cell_type": "markdown",
      "metadata": {
        "id": "_wnzR4lTaPTQ",
        "colab_type": "text"
      },
      "source": [
        "### Pandas Optmization\n",
        "*How to optimize performance of Pandas applying the following techniques to the iris dataset*\n",
        "- .itterows()\n",
        "- apply()\n",
        "- .cut()\n",
        "\n",
        "\n",
        "![alt text](https://media0.giphy.com/media/wT71Ce9oKBQGc/giphy.gif)\n",
        "\n",
        "\n",
        "---\n",
        "\n",
        "Reference tutorial:\n",
        "\n",
        "https://towardsdatascience.com/how-to-use-pandas-the-right-way-to-speed-up-your-code-4a19bd89926d"
      ]
    },
    {
      "cell_type": "code",
      "metadata": {
        "id": "BiJbFT1dWk90",
        "colab_type": "code",
        "outputId": "ca29a7ec-9add-40bf-9a2b-640a8ccd5e73",
        "colab": {
          "base_uri": "https://localhost:8080/",
          "height": 119
        }
      },
      "source": [
        "import seaborn as sns\n",
        "import pandas as pd\n",
        "\n",
        "data = sns.load_dataset('iris')\n",
        "\n",
        "print(data.head())"
      ],
      "execution_count": 0,
      "outputs": [
        {
          "output_type": "stream",
          "text": [
            "   sepal_length  sepal_width  petal_length  petal_width species\n",
            "0           5.1          3.5           1.4          0.2  setosa\n",
            "1           4.9          3.0           1.4          0.2  setosa\n",
            "2           4.7          3.2           1.3          0.2  setosa\n",
            "3           4.6          3.1           1.5          0.2  setosa\n",
            "4           5.0          3.6           1.4          0.2  setosa\n"
          ],
          "name": "stdout"
        }
      ]
    },
    {
      "cell_type": "markdown",
      "metadata": {
        "id": "_x5dX2gZboZq",
        "colab_type": "text"
      },
      "source": [
        "### Baseline\n",
        "*using for loop*\n",
        "\n",
        "\n",
        "---\n",
        "\n",
        "\n",
        "![alt text](https://media1.tenor.com/images/c1e31c6eb9b4249c82d217777b279e6b/tenor.gif?itemid=11956161)"
      ]
    },
    {
      "cell_type": "code",
      "metadata": {
        "id": "AR2AiKQrW4bX",
        "colab_type": "code",
        "outputId": "3ed3e668-a677-4f95-8351-847003e932e9",
        "colab": {
          "base_uri": "https://localhost:8080/",
          "height": 34
        }
      },
      "source": [
        "import seaborn as sns\n",
        "import time \n",
        "\n",
        "def compute_class(petal_length):\n",
        "    if petal_length <= 2:\n",
        "        return 1\n",
        "    elif 2 < petal_length < 5:\n",
        "        return 2\n",
        "    else:\n",
        "        return 3\n",
        "\n",
        "start = time.time()\n",
        "\n",
        "class_list = list()\n",
        "for i in range(len(data)):\n",
        "    petal_length = data.iloc[i]['petal_length']\n",
        "    class_num = compute_class(petal_length)\n",
        "    class_list.append(class_num)\n",
        "\n",
        "end = time.time()\n",
        "print(\"For-loop run time = {}\".format(end - start))"
      ],
      "execution_count": 0,
      "outputs": [
        {
          "output_type": "stream",
          "text": [
            "For-loop run time = 0.05428910255432129\n"
          ],
          "name": "stdout"
        }
      ]
    },
    {
      "cell_type": "markdown",
      "metadata": {
        "id": "PAy3wtg8cqYP",
        "colab_type": "text"
      },
      "source": [
        "# Optimization 1\n",
        "*itterows()*"
      ]
    },
    {
      "cell_type": "code",
      "metadata": {
        "id": "gEOlsiywXnsp",
        "colab_type": "code",
        "outputId": "e990c7fa-ef7d-49e2-c7ff-3820638016bb",
        "colab": {
          "base_uri": "https://localhost:8080/",
          "height": 34
        }
      },
      "source": [
        "import seaborn as sns\n",
        "import time\n",
        "\n",
        "data = sns.load_dataset('iris')\n",
        "\n",
        "def compute_class(petal_length):\n",
        "    if petal_length <= 2:\n",
        "        return 1\n",
        "    elif 2 < petal_length < 5:\n",
        "        return 2\n",
        "    else:\n",
        "        return 3\n",
        "\n",
        "start = time.time()\n",
        "\n",
        "class_list = list()\n",
        "for index, data_row in data.iterrows():\n",
        "    petal_length = data_row['petal_length']\n",
        "    class_num = compute_class(petal_length)\n",
        "    class_list.append(class_num)\n",
        "\n",
        "end = time.time()\n",
        "print(\"Iterrows run time = {}\".format(end - start))"
      ],
      "execution_count": 0,
      "outputs": [
        {
          "output_type": "stream",
          "text": [
            "Iterrows run time = 0.02191615104675293\n"
          ],
          "name": "stdout"
        }
      ]
    },
    {
      "cell_type": "markdown",
      "metadata": {
        "id": "2E7mqLiKc7kH",
        "colab_type": "text"
      },
      "source": [
        "#Optimization 2\n",
        "*.apply()*"
      ]
    },
    {
      "cell_type": "code",
      "metadata": {
        "id": "LdXQDtXAX9th",
        "colab_type": "code",
        "outputId": "7301f923-3c0d-42ba-c654-591816b93ec1",
        "colab": {
          "base_uri": "https://localhost:8080/",
          "height": 34
        }
      },
      "source": [
        "import seaborn as sns\n",
        "import time\n",
        "\n",
        "data = sns.load_dataset('iris')\n",
        "\n",
        "def compute_class(petal_length):\n",
        "    if petal_length <= 2:\n",
        "        return 1\n",
        "    elif 2 < petal_length < 5:\n",
        "        return 2\n",
        "    else:\n",
        "        return 3\n",
        "\n",
        "start = time.time()\n",
        "\n",
        "class_list = data.apply(lambda row: compute_class(row['petal_length']), axis=1)\n",
        "\n",
        "end = time.time()\n",
        "print(\".apply() run time = {}\".format(end - start))"
      ],
      "execution_count": 0,
      "outputs": [
        {
          "output_type": "stream",
          "text": [
            ".apply() run time = 0.008765697479248047\n"
          ],
          "name": "stdout"
        }
      ]
    },
    {
      "cell_type": "markdown",
      "metadata": {
        "id": "JUg_O9nHdTrN",
        "colab_type": "text"
      },
      "source": [
        "#Optimization 3\n",
        "*.cut()*"
      ]
    },
    {
      "cell_type": "code",
      "metadata": {
        "id": "QfrSPw15YPae",
        "colab_type": "code",
        "outputId": "f7dd7ac5-1c6b-42de-9b00-268d66db4d1e",
        "colab": {
          "base_uri": "https://localhost:8080/",
          "height": 34
        }
      },
      "source": [
        "import seaborn as sns\n",
        "import time\n",
        "import pandas as pd\n",
        "\n",
        "data = sns.load_dataset('iris')\n",
        "\n",
        "start = time.time()\n",
        "\n",
        "class_list = pd.cut(x=data.petal_length,\n",
        "                   bins=[0, 2, 5, 100],\n",
        "                   include_lowest=True,\n",
        "                   labels=[1, 2, 3]).astype(int)\n",
        "\n",
        "end = time.time()\n",
        "print(\".cut() run time = {}\".format(end - start))"
      ],
      "execution_count": 0,
      "outputs": [
        {
          "output_type": "stream",
          "text": [
            ".cut() run time = 0.010038137435913086\n"
          ],
          "name": "stdout"
        }
      ]
    }
  ]
}